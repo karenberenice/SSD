{
 "cells": [
  {
   "cell_type": "markdown",
   "metadata": {
    "slideshow": {
     "slide_type": "slide"
    }
   },
   "source": [
    "# *Images*\n",
    "## Paquete para imágenes"
   ]
  },
  {
   "cell_type": "markdown",
   "metadata": {
    "slideshow": {
     "slide_type": "slide"
    }
   },
   "source": [
    "## *Images*\n",
    "\n",
    "El paquete **Images** permite crear y manipular imágenes.\n",
    "\n",
    "### Instalación y llamada\n",
    "\n",
    "En **JuliaBox**, **Images** ya está instalado."
   ]
  },
  {
   "cell_type": "code",
   "execution_count": null,
   "metadata": {},
   "outputs": [],
   "source": [
    "#Pkg.update()\n",
    "#Pkg.add(\"ImageMagick\")\n",
    "#Pkg.add(\"Images\")"
   ]
  },
  {
   "cell_type": "code",
   "execution_count": null,
   "metadata": {},
   "outputs": [],
   "source": [
    "using Images, Colors"
   ]
  },
  {
   "cell_type": "markdown",
   "metadata": {
    "slideshow": {
     "slide_type": "slide"
    }
   },
   "source": [
    "## Creando imágenes\n",
    "\n",
    "Las imágenes son arreglos $2$-dimensionales de \"colores\".\n",
    "\n",
    "Crear una imágen es igual que crear una matriz, pero con entradas de color...\n",
    "\n",
    "### Imágenes en grises\n",
    "\n",
    "Para imágenes en grises, $0$ es el color negro y $1$ el blanco. Números entre $0$ y $1$ son los distintos tonos de grises.."
   ]
  },
  {
   "cell_type": "code",
   "execution_count": null,
   "metadata": {},
   "outputs": [],
   "source": [
    "# Crea una imagen en grises (aleatoria)\n",
    "# de 400x200 pixeles (400 a lo ancho y 200 a lo alto)\n",
    "img_rand_gray = Gray.(rand(200,400))"
   ]
  },
  {
   "cell_type": "markdown",
   "metadata": {
    "slideshow": {
     "slide_type": "slide"
    }
   },
   "source": [
    "Una vez creadas, las imágenes se pueden modificar..."
   ]
  },
  {
   "cell_type": "code",
   "execution_count": null,
   "metadata": {},
   "outputs": [],
   "source": [
    "# Crea una imagen con puros 1, es decir, de color blanco\n",
    "img = Gray.(ones(100,100)) # ones(Gray{Float16},100,100)\n",
    "\n",
    "# En las entradas (i,i), pone 0, es decir, un pixel negro\n",
    "for i in 1:100\n",
    "    img[i,i] = 0.\n",
    "end\n",
    "\n",
    "img # Nótese que las imágenes se recorren de izquierda a derecha, pero de arriba a abajo"
   ]
  },
  {
   "cell_type": "markdown",
   "metadata": {
    "slideshow": {
     "slide_type": "slide"
    }
   },
   "source": [
    "### Ejemplo: El diagrama de órbitas de una familia de funciones\n",
    "\n",
    "El *diagrama de órbitas* de una familia de funciones $f_\\lambda:[a,b]\\rightarrow [a,b]$ consiste en dibujar los últimos $N$ puntos del conjunto de iteraciones $\\{x_0,f_\\lambda(x_0),\\dots,f^M_\\lambda(x_0),\\dots,f^{M+N}_\\lambda(x_0)\\}$ sobre una línea vertical correspondiente a un $\\lambda \\in [\\lambda_0,\\lambda_1]$. Si la función $f_\\lambda$ tiene órbitas atractoras, los puntos dibujados serán muy cercanos a ellas."
   ]
  },
  {
   "cell_type": "code",
   "execution_count": null,
   "metadata": {
    "scrolled": true,
    "slideshow": {
     "slide_type": "subslide"
    }
   },
   "outputs": [],
   "source": [
    "function createOrbitDiagram(f::Function, x_min::Real, x_max::Real, lambda_min::Real, lambda_max::Real,\n",
    "    width::Integer=500, height::Integer=500, n_approx::Integer=200, n_points::Integer=200)\n",
    "\n",
    "    img_orbits = Gray.(ones(height, width)) # Imagen blanca\n",
    "\n",
    "    for w_pixel in 1:width # Ciclo sobre los pixeles a lo ancho\n",
    "        \n",
    "        λ = w_pixel*(lambda_max-lambda_min)/width + lambda_min\n",
    "    \n",
    "        x = (x_min+x_max)/2 # Punto en el intervalo [x_min,x_max]\n",
    "        \n",
    "        for n in 1:n_approx # Calcula los primeros \"n_approx\" elementos de la orbita, para aproximarse a los atractores\n",
    "            x = f(x,λ)\n",
    "        end\n",
    "  \n",
    "        if x > 100. || x == Inf || x == -Inf\n",
    "            continue # Si x es muy grande o \"infinito\", usa un nuevo lambda...\n",
    "        end        \n",
    "        \n",
    "        h_pixel = 0 # Pixel a lo alto\n",
    "    \n",
    "        for n in 1:n_points # Dibuja los últimos \"n_points\" de la órbita de x \n",
    "            if x > 100. || x == Inf || x == -Inf\n",
    "                break # Si x es muy grande o \"infinito\", termina este ciclo\n",
    "            end        \n",
    "            \n",
    "            h_pixel = height - floor(Int64, height*(x-x_min)/(x_max-x_min)) # Las imágenes se recorrren de arriba a abajo...\n",
    "        \n",
    "            img_orbits[h_pixel, w_pixel] = 0. # Pone negro en el pixel\n",
    "        \n",
    "            x = f(x,λ)\n",
    "        end\n",
    "    end\n",
    "\n",
    "    img_orbits # Regresa la imagen con las órbitas atractoras en negro\n",
    "end"
   ]
  },
  {
   "cell_type": "code",
   "execution_count": null,
   "metadata": {
    "slideshow": {
     "slide_type": "slide"
    }
   },
   "outputs": [],
   "source": [
    "createOrbitDiagram((x,λ) -> λ*x*(1.-x), 0.,1., 1,4., 2000, 2000, 400, 800)\n",
    "#3.83,3.86 # 2000, 2000, 400, 800\n",
    "#3.83,4., 2000, 2000, 400, 800"
   ]
  },
  {
   "cell_type": "code",
   "execution_count": null,
   "metadata": {
    "slideshow": {
     "slide_type": "slide"
    }
   },
   "outputs": [],
   "source": [
    "createOrbitDiagram((x,λ) -> x<0.5 ? λ*x : λ*(1.-x), 0., 1., 1., 2.)"
   ]
  },
  {
   "cell_type": "code",
   "execution_count": null,
   "metadata": {
    "slideshow": {
     "slide_type": "slide"
    }
   },
   "outputs": [],
   "source": [
    "createOrbitDiagram((x,λ) -> mod2pi(x+λ*sin(π*x)), 0,2π, -2π,2π)"
   ]
  },
  {
   "cell_type": "markdown",
   "metadata": {
    "slideshow": {
     "slide_type": "slide"
    }
   },
   "source": [
    "### Ejemplo: Sistemas de funciones iteradas\n",
    "\n",
    "Tómese un conjunto finito de transformaciones afines contractoras $f_n:\\mathbb{R}^2\\rightarrow \\mathbb{R}^2$, es decir, cada función es de la forma $f_n(x,y)=(ax+by+e,cx+dy+f)$, y cumple que $||f_n(p)-f_n(q)||\\leq ||p-q||$.\n",
    "\n",
    "Existe un conjunto $A\\subset \\mathbb{R}^2$ (llamado el atractor) que es invariante para cualquier composición de las transformaciones."
   ]
  },
  {
   "cell_type": "code",
   "execution_count": null,
   "metadata": {
    "slideshow": {
     "slide_type": "subslide"
    }
   },
   "outputs": [],
   "source": [
    "function createIFSAttractor(coeffs::Array, width::Integer=500, height::Integer=500,\n",
    "        n_points::Integer=100000)\n",
    "\n",
    "    n_fns, n_cols = size(coeffs) # coeffs debe ser una matriz de n_fns renglones y 7 columnas\n",
    "\n",
    "    function randomFn(x,y) # Calcula la aplicación aleatoria de las contracciones a un punto (x,y)\n",
    "        r = rand()\n",
    "        treshold = 0.\n",
    "        for n in 1:n_fns\n",
    "            if r <= (treshold += coeffs[n,7]) # coeffs[n,7] es la probabilidad asociada a una contracción\n",
    "                x_tmp = x\n",
    "                x = coeffs[n,1]*x + coeffs[n,2]*y + coeffs[n,5] # Aplicación de la contracción a x\n",
    "                y = coeffs[n,3]*x_tmp + coeffs[n,4]*y + coeffs[n,6] # Aplicación de la contracción a y\n",
    "                return x,y\n",
    "            end\n",
    "        end\n",
    "        x,y\n",
    "    end\n",
    "    \n",
    "    img = Gray.(ones(height, width)) # Imagen blanca\n",
    "    \n",
    "    x_min = -1. # Área para dibujar: [-1,1]x[-1,1]\n",
    "    x_max = 1.\n",
    "    y_min = -1.\n",
    "    y_max = 1.\n",
    "\n",
    "    x = 0.\n",
    "    y = 0.\n",
    "    \n",
    "    for k in 1:200 # Hay que calcular nuevos límites para el área, para que quepa o se vea el atractor\n",
    "        x,y = randomFn(x,y)\n",
    "        if x < x_min x_min = x end\n",
    "        if x > x_max x_max = x end\n",
    "        if y < y_min y_min = y end\n",
    "        if y > y_max y_max = y end\n",
    "    end\n",
    "    \n",
    "    i = 0\n",
    "    j = 0\n",
    "        \n",
    "    for k in 1:n_points\n",
    "        i = ceil(Int64, width*(x - x_min)/(x_max - x_min)) # Conversión de coordenada \"x\" a \"i\" de imagen\n",
    "        j = height - floor(Int64, height*(y - y_min)/(y_max - y_min))\n",
    "        if 1 <= i <= width && 1 <= j <= height # Si no está dentro de estos índices, no está en la imagen\n",
    "            img[j,i] = 0.\n",
    "        end\n",
    "        x,y = randomFn(x,y)\n",
    "    end\n",
    "    \n",
    "    img\n",
    "end"
   ]
  },
  {
   "cell_type": "code",
   "execution_count": null,
   "metadata": {
    "slideshow": {
     "slide_type": "slide"
    }
   },
   "outputs": [],
   "source": [
    "ifs_koch = [\n",
    "0.3333   0.0000   0.0000   0.3333   0.0000  0.0000 0.4;\n",
    "0.1667  -0.2887   0.2887   0.1667   0.3333  0.0000 0.4;\n",
    "0.1667   0.2887  -0.2887   0.1667   0.5000  0.2887 0.1;\n",
    "0.3333   0.0000   0.0000   0.3333   0.6667  0.0000 0.1]\n",
    "\n",
    "ifs_sierpinski = [\n",
    "0.5 0 0 0.5  0.00  0.000  0.3333;\n",
    "0.5 0 0 0.5  0.50  0.000  0.3333;\n",
    "0.5 0 0 0.5  0.25  0.433  0.3334]\n",
    "\n",
    "ifs_dragon = [\n",
    " 0.5  0.5  -0.5  0.5   0  0   0.5;\n",
    "-0.5  0.5  -0.5 -0.5   1  0   0.5]\n",
    "\n",
    "ifs_fern = [\n",
    " 0.00   0.00   0.00  0.16  0.0  0.00   0.01;\n",
    " 0.20  -0.26   0.23  0.22  0.0  1.60   0.07;\n",
    "-0.15   0.28   0.26  0.24  0.0  0.44   0.07;    \n",
    " 0.85   0.04  -0.04  0.85  0.0  1.60   0.85]\n",
    "\n",
    "ifs_coral = [\n",
    "-0.16666667 -0.1666667  0.16666667 -0.1666667  0.0000000  0.000000  0.163;\n",
    " 0.83333333  0.2500000 -0.25000000  0.8333333 -0.1666667 -0.166667  0.600;\n",
    " 0.33333333 -0.0833333  0.08333333  0.3333333  0.0833333  0.666667  0.237]\n",
    "\n",
    "ifs_square = [\n",
    " 0.5  0.0  0.0  0.5  0.0  0.0  0.15;\n",
    " 0.5  0.0  0.0  0.5  0.5  0.0  0.15;\n",
    " 0.5  0.0  0.0  0.5  0.0  0.5  0.1;\n",
    " 0.5  0.0  0.0  0.5  0.5  0.5  0.6]"
   ]
  },
  {
   "cell_type": "markdown",
   "metadata": {
    "slideshow": {
     "slide_type": "fragment"
    }
   },
   "source": [
    "Cada $n$-ésimo renglón $a_n,b_n,c_n,d_n,t_n,s_n,p_n$ de las matrices anteriores indica la contracción\n",
    "\n",
    "$f_n(x,y)=(a_n x + b_n y + t_n, c_n x + d_n y + s_n)$, con una probabilidad $p_n$."
   ]
  },
  {
   "cell_type": "code",
   "execution_count": null,
   "metadata": {
    "slideshow": {
     "slide_type": "slide"
    }
   },
   "outputs": [],
   "source": [
    "createIFSAttractor(ifs_koch, 2000, 2000, 1000000)"
   ]
  },
  {
   "cell_type": "markdown",
   "metadata": {
    "slideshow": {
     "slide_type": "slide"
    }
   },
   "source": [
    "### Ejemplo: El conjunto de Mandelbrot\n",
    "\n",
    "El conjunto de Mandelbrot es el conjunto\n",
    "$$\\mathcal{M}=\\{c \\in \\mathbb{C}| q_c^n(0) \\nrightarrow \\infty\\}$$\n",
    "donde $q_c(z) = z^2+c$.\n",
    "\n",
    "En el algoritmo, dibuja con el gris $n/N_{max}\\in [0,1]$ el pixel correspondiente al $c$, donde $n$ es primer entero tal que $||q_c^n(0)||^2>4$. $N_{max}$ es un número máximo de iteraciones dado."
   ]
  },
  {
   "cell_type": "code",
   "execution_count": null,
   "metadata": {
    "slideshow": {
     "slide_type": "subslide"
    }
   },
   "outputs": [],
   "source": [
    "# Tamaño de la imagen\n",
    "width = 500\n",
    "height = 500\n",
    "\n",
    "# Imagen en blanco\n",
    "img_mandelbrot = Gray.(ones(height,width))\n",
    "\n",
    "# Región en el plano [x_min,x_max]x[y_min,y_max]\n",
    "x_min = -2.2\n",
    "x_max = 0.8\n",
    "y_min = -1.5\n",
    "y_max = 1.5\n",
    "\n",
    "# Variables para c y z\n",
    "x = 0.\n",
    "y = 0.\n",
    "z = 0.+im\n",
    "c = 0.+im\n",
    "\n",
    "# Número máximo de iteraciones\n",
    "max_iters = 80\n",
    "\n",
    "# Contador de iteraciones\n",
    "n = 0\n",
    "\n",
    "for j in 1:height # Recorriendo el eje Y, la altura de la imagen\n",
    "    y = y_min + (j-1)*(y_max-y_min)/height\n",
    "    \n",
    "    for i in 1:width # Recorriendo el eje X, el ancho de la imagen\n",
    "        x = x_min + (i-1)*(x_max-x_min)/width\n",
    "        \n",
    "        c = x + y*im # Estamos en el plano parámetrico, cada pixel es un c\n",
    "        z = c # Esto equivale a la primera iteración del 0: z = (0)^2 + c\n",
    "        \n",
    "        for n in 1:max_iters # Checando que las iteraciones de 0 estén acotadas\n",
    "            if abs2(z) > 4 # si |z| > 2, entonces q^n(z) -> Inf\n",
    "                break\n",
    "            end\n",
    "            \n",
    "            z = z^2 + c\n",
    "        end\n",
    "        \n",
    "        img_mandelbrot[j,i] = n/max_iters # Un número entre 0 y 1, es gris...     \n",
    "    end\n",
    "end\n",
    "\n",
    "img_mandelbrot"
   ]
  },
  {
   "cell_type": "markdown",
   "metadata": {
    "slideshow": {
     "slide_type": "slide"
    }
   },
   "source": [
    "### Teorema\n",
    "Si $z_0\\in J(f)$ entonces $\\overline{\\bigcup f^{-n}(z_0)} = J(f)$. "
   ]
  },
  {
   "cell_type": "code",
   "execution_count": null,
   "metadata": {},
   "outputs": [],
   "source": [
    "# Dibuja el conjunto de Julia de q_c(z) = z^2 + c, usando el teorema de arriba\n",
    "function createJulia(z0::Complex, c::Complex, x_min::Real, x_max::Real, y_min::Real, y_max::Real,\n",
    "    width::Integer=500, height::Integer=500, n_points::Integer=100000)\n",
    "    \n",
    "    img = Gray.(zeros(height,width))\n",
    "    \n",
    "    z = z0\n",
    "    \n",
    "    for n in 1:n_points\n",
    "        i = ceil(Int64, width*(z.re - x_min)/(x_max - x_min)) # Conversión de coordenada \"x\" a \"i\" de imagen\n",
    "        j = height - floor(Int64, height*(z.im - y_min)/(y_max - y_min))\n",
    "        \n",
    "        #if 1 <= i <= width && 1 <= j <= height # Si no está dentro de estos índices, no está en la imagen\n",
    "        img[j,i] = 1.\n",
    "        #end\n",
    "       \n",
    "        z = rand() < 0.5 ? sqrt(z - c) : -sqrt(z - c)\n",
    "    end\n",
    "\n",
    "    img\n",
    "end"
   ]
  },
  {
   "cell_type": "code",
   "execution_count": null,
   "metadata": {},
   "outputs": [],
   "source": [
    "createJulia(0.9im, -1.+0im, -2., 2., -2., 2.)\n",
    "# 0.5+0im, 0.25+0im # -1.+0im, 0.5im # 0.5im, -1.+0im"
   ]
  },
  {
   "cell_type": "markdown",
   "metadata": {
    "collapsed": true,
    "slideshow": {
     "slide_type": "slide"
    }
   },
   "source": [
    "## Imágenes a color\n",
    "\n",
    "Una manera de especificar colores, es mediante ternas de números llamadas *RGB* (*Red-Green-Blue*).\n",
    "\n",
    "Por ejemplo (usando números en $[0,1]$)\n",
    "\n",
    "- $(0,0,0)$ es negro.\n",
    "- $(1,0,0)$ es rojo brillante.\n",
    "- $(0.25,0,0)$ es rojo obscuro.\n",
    "- $(0,0,1)$ es azul brillante.\n",
    "- $(1,1,0)$ es amarillo.\n",
    "- $(0.5,0.5,0.5)$ es gris.\n",
    "- $(1,1,1)$ es blanco."
   ]
  },
  {
   "cell_type": "code",
   "execution_count": null,
   "metadata": {},
   "outputs": [],
   "source": [
    "color_rgb = RGB(0,0.6,0)"
   ]
  },
  {
   "cell_type": "code",
   "execution_count": null,
   "metadata": {},
   "outputs": [],
   "source": [
    "# Crea una imagen en colores (aleatoria) de 200x100 pixeles\n",
    "img_rand_rgb = rand(RGB{Float32},100,200)"
   ]
  },
  {
   "cell_type": "markdown",
   "metadata": {
    "slideshow": {
     "slide_type": "slide"
    }
   },
   "source": [
    "### Ejemplo: El conjunto de Julia lleno\n",
    "\n",
    "Dada una función $f:\\mathbb{C} \\rightarrow \\mathbb{C}$, el conjunto de Julia lleno es\n",
    "$$\\mathcal{K}(f)=\\{z \\in \\mathbb{C}| f^n(z) \\nrightarrow \\infty\\}$$"
   ]
  },
  {
   "cell_type": "markdown",
   "metadata": {
    "slideshow": {
     "slide_type": "fragment"
    }
   },
   "source": [
    "Para este algoritmo, en lugar de un gris $\\in [0,1]$, se asignará al pixel un color de un arreglo de colores precalculado, de tamaño en máximo de iteraciones.\n",
    "\n",
    "Cada color indicará la iteración en la que se \"escapa\" la iterada..."
   ]
  },
  {
   "cell_type": "code",
   "execution_count": null,
   "metadata": {},
   "outputs": [],
   "source": [
    "# Dada una lista de colores base, crea una lista de N colores usando interpolación\n",
    "function createColorArray(N::Integer, base_colors::Array)\n",
    "    n_base_colors = length(base_colors)\n",
    "    M = round(Int64, N/(n_base_colors-1))+1\n",
    "    clrs_array = [base_colors[1]]\n",
    "    for n in 2:n_base_colors\n",
    "        for k in 1:M\n",
    "            push!(clrs_array, (1.-k/M)*base_colors[n-1] + (k/M)*base_colors[n])\n",
    "        end\n",
    "    end  \n",
    "    clrs_array\n",
    "end"
   ]
  },
  {
   "cell_type": "code",
   "execution_count": null,
   "metadata": {},
   "outputs": [],
   "source": [
    "c = -0.70176-0.3842*im\n",
    "#c = -1.\n",
    "#c = im\n",
    "#c = 0.285+0.01*im\n",
    "#c=0.25\n",
    "#c = -0.7269+0.1889*im\n",
    "#c=e/pi\n",
    "\n",
    "f(z::Complex) = z^2 + c\n",
    "#f(z::Complex) = z^2 + c/(z^2)\n",
    "#f(z::Complex) = z - (z^3 - 1.)/(3z^2)\n",
    "#f(z::Complex) = c*sin(z)\n",
    "#f(z::Complex) = c*exp(z)\n",
    "\n",
    "# Tamaño de la imagen\n",
    "width = 500\n",
    "height = 500\n",
    "\n",
    "# Imagen en negro\n",
    "img_filled_julia = zeros(RGB{Float32},height,width)\n",
    "\n",
    "# Región en el plano [x_min,x_max]x[y_min,y_max]\n",
    "x_min = -2.\n",
    "x_max = 2.\n",
    "y_min = -2.\n",
    "y_max = 2.\n",
    "\n",
    "# Variables z\n",
    "x = 0.\n",
    "y = 0.\n",
    "z = 0.+im\n",
    "\n",
    "# Número máximo de iteraciones\n",
    "max_iters = 50\n",
    "\n",
    "# Arreglo de colores\n",
    "colors_array = createColorArray(max_iters, [RGB(0,0,0.2), RGB(1,1,1), RGB(1,0,0)])\n",
    "#colors_array = createColorArray(max_iters, [RGB(1,1,1), RGB(0,0,0), RGB(0,1,1), RGB(1,0,0)])\n",
    "#colors_array = createColorArray(max_iters, [RGB(0,0,0), RGB(0,0,0.5), RGB(0,1,1), RGB(0,1,0), RGB(1,1,0), RGB(1,0,0), RGB(1,1,1)])\n",
    "\n",
    "# Contador de iteraciones\n",
    "n = 0\n",
    "\n",
    "for j in 1:height # Recorriendo el eje Y, la altura de la imagen\n",
    "    y = y_min + (j-1)*(y_max-y_min)/height\n",
    "    \n",
    "    for i in 1:width # Recorriendo el eje X, el ancho de la imagen\n",
    "        x = x_min + (i-1)*(x_max-x_min)/width\n",
    "        \n",
    "        z = x + y*im # Estamos en el plano dinámico, cada pixel es un z\n",
    "        \n",
    "        for n in 1:max_iters # Checando que las iteraciones de z estén acotadas\n",
    "            if abs2(z) > 4 # si |z| > 2, entonces q^n(z) -> Inf\n",
    "                break\n",
    "            end\n",
    "            \n",
    "            z = f(z)\n",
    "        end\n",
    "        \n",
    "        img_filled_julia[j,i] = colors_array[n]\n",
    "    end\n",
    "    \n",
    "end\n",
    "\n",
    "img_filled_julia"
   ]
  },
  {
   "cell_type": "markdown",
   "metadata": {
    "slideshow": {
     "slide_type": "slide"
    }
   },
   "source": [
    "Para guardar imágenes creadas o modificadas:"
   ]
  },
  {
   "cell_type": "code",
   "execution_count": null,
   "metadata": {},
   "outputs": [],
   "source": [
    "using FileIO\n",
    "save(\"filled_julia.png\", img_filled_julia)"
   ]
  },
  {
   "cell_type": "markdown",
   "metadata": {
    "slideshow": {
     "slide_type": "slide"
    }
   },
   "source": [
    "## Abrir imágenes de un archivo"
   ]
  },
  {
   "cell_type": "code",
   "execution_count": null,
   "metadata": {},
   "outputs": [],
   "source": [
    "#using FileIO\n",
    "img_cat = load(\"cat_colors.png\")"
   ]
  },
  {
   "cell_type": "markdown",
   "metadata": {
    "slideshow": {
     "slide_type": "slide"
    }
   },
   "source": [
    "### Ejemplo: El mapeo del gato de Arnol'd\n",
    "\n",
    "El mapeo del gato de Arnol'd es un mapeo en el toro plano bidimensional $\\mathbb{T}^2=\\mathbb{R}^2/\\mathbb{Z}^2$ dado por\n",
    "$$ \\left(\\begin{array}{c} x\\\\ y\n",
    "\\end{array}\\right)\n",
    "\\mapsto\n",
    "\\left(\\begin{array}{cc}\n",
    "2 & 1\\\\\n",
    "1 & 1\n",
    "\\end{array}\\right)\n",
    "\\left(\\begin{array}{c} x\\\\ y\n",
    "\\end{array}\\right)\\mod\\,1$$"
   ]
  },
  {
   "cell_type": "code",
   "execution_count": null,
   "metadata": {
    "scrolled": true
   },
   "outputs": [],
   "source": [
    "# Iteraciones\n",
    "N=1\n",
    "\n",
    "img_size = Int(sqrt(length(img_cat))) # La imagen debe de ser cuadrada\n",
    "img_cat0 = copy(img_cat) # Copias de la imagen, para no modificar la original\n",
    "img_cat1 = copy(img_cat)\n",
    "\n",
    "for n in 1:N\n",
    "    for j in 1:img_size\n",
    "        for i in 1:img_size\n",
    "            ci = (2i + j) % img_size + 1 # Mapeo del gato de Arnol'd\n",
    "            cj =  (i + j) % img_size + 1\n",
    "    \n",
    "            img_cat1[j,i] = img_cat0[cj,ci]\n",
    "        end\n",
    "    end\n",
    "    img_cat0 = copy(img_cat1)\n",
    "end\n",
    "\n",
    "img_cat1"
   ]
  },
  {
   "cell_type": "code",
   "execution_count": null,
   "metadata": {},
   "outputs": [],
   "source": []
  }
 ],
 "metadata": {
  "kernelspec": {
   "display_name": "Julia 0.6.1",
   "language": "julia",
   "name": "julia-0.6"
  },
  "language_info": {
   "file_extension": ".jl",
   "mimetype": "application/julia",
   "name": "julia",
   "version": "0.6.1"
  }
 },
 "nbformat": 4,
 "nbformat_minor": 2
}
